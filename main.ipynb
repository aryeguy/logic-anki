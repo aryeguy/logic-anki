{
  "cells": [
    {
      "cell_type": "code",
      "execution_count": 3,
      "outputs": [],
      "source": "from PIL import Image\n\n\nim \u003d Image.open(\u0027images/questions/18-0.jpg\u0027)\n\n",
      "metadata": {
        "pycharm": {
          "metadata": false,
          "name": "#%%\n",
          "is_executing": false
        }
      }
    },
    {
      "cell_type": "code",
      "execution_count": null,
      "outputs": [],
      "source": "import pandas as pd\nfrom scipy import misc\nimport numpy as np\nimport matplotlib.pyplot as plt\n",
      "metadata": {
        "pycharm": {
          "metadata": false,
          "name": "#%%\n"
        }
      }
    }
  ],
  "metadata": {
    "kernelspec": {
      "name": "python3",
      "language": "python",
      "display_name": "Python 3"
    },
    "stem_cell": {
      "cell_type": "raw",
      "source": "",
      "metadata": {
        "pycharm": {
          "metadata": false
        }
      }
    }
  },
  "nbformat": 4,
  "nbformat_minor": 2
}